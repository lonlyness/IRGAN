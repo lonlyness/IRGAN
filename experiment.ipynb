{
 "cells": [
  {
   "cell_type": "markdown",
   "metadata": {},
   "source": [
    "# ライブラリのインポート"
   ]
  },
  {
   "cell_type": "code",
   "execution_count": 1,
   "metadata": {},
   "outputs": [],
   "source": [
    "import torch.nn as nn\n",
    "import torch.nn.functional as F\n",
    "import torch\n",
    "import torchvision.models as models"
   ]
  },
  {
   "cell_type": "markdown",
   "metadata": {},
   "source": [
    "# Discriminator"
   ]
  },
  {
   "cell_type": "code",
   "execution_count": 2,
   "metadata": {},
   "outputs": [
    {
     "ename": "SyntaxError",
     "evalue": "invalid syntax (<ipython-input-2-e139e3a56e53>, line 16)",
     "output_type": "error",
     "traceback": [
      "\u001b[0;36m  File \u001b[0;32m\"<ipython-input-2-e139e3a56e53>\"\u001b[0;36m, line \u001b[0;32m16\u001b[0m\n\u001b[0;31m    self.item_bias = torch.zeros([], dtype=) # (self.item_num)\u001b[0m\n\u001b[0m                                           ^\u001b[0m\n\u001b[0;31mSyntaxError\u001b[0m\u001b[0;31m:\u001b[0m invalid syntax\n"
     ]
    }
   ],
   "source": [
    "class Discriminator():\n",
    "    def __init__(self, item_num, user_num, \n",
    "                            emb_dim, lamda, param=None, initdelta=0.05, lr=0.05):\n",
    "        self.item_num = item_num\n",
    "        self.user_num = user_num\n",
    "        self.emb_dim = emb_dim\n",
    "        self.lamda = lamda\n",
    "        self.param = param\n",
    "        self.initdelta = initdelta\n",
    "        self.lr = lr\n",
    "        self.d_params = []\n",
    "        \n",
    "        if self.param is None:\n",
    "            self.user_embeddings = nn.Embedding() # (self.user_num, self.emb_dim)\n",
    "            self.item_embeddings = nn.Embedding() # (self.item_num, self.emb_dim)\n",
    "            self.item_bias = torch.zeros([], dtype=) # (self.item_num)\n",
    "        else:\n",
    "            # parameterの読み込み\n",
    "        \n",
    "        def forward(self, user, item, label):\n",
    "            pre_logits = (self.user_embeddings(user) \\\n",
    "                                   * self.item_embeddings(item)).sum(1) + self.item_bias(item)\n",
    "            pre_loss =  F.binary_cross_entropy_with_logits(pre_logits, label)\n",
    "            return pre_loss\n",
    "\n",
    "        def all_rating(self, user):\n",
    "            all_rating = torch.mm(self.user_embeddings(user),\n",
    "                                                   self.item_embeddings.t()) + self.item_bias\n",
    "            return all_rating\n",
    "            \n",
    "        def all_logits(self, user):\n",
    "            u_embedding = self.user_embeddings(user)\n",
    "            all_logits = (self.user_embeddings(user) \\\n",
    "                                  * self.item_embeddings).sum(1) + self.item_bias\n",
    "            return all_logits\n",
    "        \n",
    "        def get_reward(self, user, item):\n",
    "            reward_logits = (self.user_embeddings(user) \\\n",
    "                                         * self.item_embeddings.t()).sum(1) + self.item_bias(item)\n",
    "            reward = 2 * (torch.nn.Sigmoid(reward_logits) - 0.5)\n",
    "            return reward"
   ]
  },
  {
   "cell_type": "markdown",
   "metadata": {},
   "source": [
    "# Generator"
   ]
  },
  {
   "cell_type": "code",
   "execution_count": null,
   "metadata": {},
   "outputs": [],
   "source": [
    "def Generator():\n",
    "    def __init__(self, item_num, user_num, \n",
    "                            emb_dim, lamda, param=None, initdelta=0.05, lr=0.05):\n",
    "        self.item_num = item_num\n",
    "        self.user_num = user_num\n",
    "        self.emb_dim = emb_dim\n",
    "        self.lamda = lamda\n",
    "        self.param = param\n",
    "        self.initdelta = initdelta\n",
    "        self.lr = lr\n",
    "        self.g_params = []\n",
    "        \n",
    "        if self.param is None:\n",
    "            self.user_embeddings = nn.Embedding() # (self.user_num, self.emb_dim)\n",
    "            self.item_embeddings = nn.Embedding() # (self.item_num, self.emb_dim)\n",
    "            self.item_bias = torch.zeros([], dtype=) # (self.item_num)\n",
    "        else:\n",
    "            # parameterの読み込み\n",
    "        \n",
    "        def forward(self, user, item, label, reward):\n",
    "            i_prob = torch.gather(F.softmax(self.all_logits(user).view(1, -1), -1), item)\n",
    "            loss = - (torch.log(i_prob) * reward).sum(1)\n",
    "                       + self.lamda * (F.normalize(self.user_embeddings(user), p=2, dim=1)\n",
    "                                                 + F.normalize(self.item_embeddings(item), p=2, dim=1)\n",
    "                                                 + F.normalize(self.item_bias(item), p=2, dim=1)\n",
    "            return loss\n",
    "            \n",
    "        def all_logits(self, user):\n",
    "            u_embedding = self.user_embeddings(user)\n",
    "            all_logits = (self.user_embeddings(user) \\\n",
    "                                  * self.item_embeddings).sum(1) + self.item_bias\n",
    "            return all_logits"
   ]
  },
  {
   "cell_type": "markdown",
   "metadata": {},
   "source": [
    "# ハイパーパラメーター"
   ]
  },
  {
   "cell_type": "code",
   "execution_count": 4,
   "metadata": {},
   "outputs": [],
   "source": [
    "EMB_DIM = 5\n",
    "USER_NUM = 943\n",
    "ITEM_NUM = 1683\n",
    "BATCH_SIZE = 16\n",
    "INIT_DELTA = 0.05\n",
    "\n",
    "all_items = set(range(ITEM_NUM))\n",
    "workdir = \"ml-100k/\"\n",
    "DIS_TRAIN_FILE = workdir + \"dis-train.txt\""
   ]
  },
  {
   "cell_type": "markdown",
   "metadata": {},
   "source": [
    "# ロードデータ"
   ]
  },
  {
   "cell_type": "code",
   "execution_count": 6,
   "metadata": {},
   "outputs": [
    {
     "ename": "FileNotFoundError",
     "evalue": "[Errno 2] No such file or directory: 'ml-100k/movielens-100k-train.txt'",
     "output_type": "error",
     "traceback": [
      "\u001b[0;31m---------------------------------------------------------------------------\u001b[0m",
      "\u001b[0;31mFileNotFoundError\u001b[0m                         Traceback (most recent call last)",
      "\u001b[0;32m<ipython-input-6-1764ebe2d31f>\u001b[0m in \u001b[0;36m<module>\u001b[0;34m()\u001b[0m\n\u001b[1;32m      1\u001b[0m \u001b[0muser_pos_train\u001b[0m \u001b[0;34m=\u001b[0m \u001b[0;34m{\u001b[0m\u001b[0;34m}\u001b[0m\u001b[0;34m\u001b[0m\u001b[0m\n\u001b[0;32m----> 2\u001b[0;31m \u001b[0;32mwith\u001b[0m \u001b[0mopen\u001b[0m\u001b[0;34m(\u001b[0m\u001b[0mworkdir\u001b[0m \u001b[0;34m+\u001b[0m \u001b[0;34m'movielens-100k-train.txt'\u001b[0m\u001b[0;34m)\u001b[0m\u001b[0;32mas\u001b[0m \u001b[0mfin\u001b[0m\u001b[0;34m:\u001b[0m\u001b[0;34m\u001b[0m\u001b[0m\n\u001b[0m\u001b[1;32m      3\u001b[0m     \u001b[0;32mfor\u001b[0m \u001b[0mline\u001b[0m \u001b[0;32min\u001b[0m \u001b[0mfin\u001b[0m\u001b[0;34m:\u001b[0m\u001b[0;34m\u001b[0m\u001b[0m\n\u001b[1;32m      4\u001b[0m         \u001b[0mline\u001b[0m \u001b[0;34m=\u001b[0m \u001b[0mline\u001b[0m\u001b[0;34m.\u001b[0m\u001b[0msplit\u001b[0m\u001b[0;34m(\u001b[0m\u001b[0;34m)\u001b[0m\u001b[0;34m\u001b[0m\u001b[0m\n\u001b[1;32m      5\u001b[0m         \u001b[0muid\u001b[0m \u001b[0;34m=\u001b[0m \u001b[0mint\u001b[0m\u001b[0;34m(\u001b[0m\u001b[0mline\u001b[0m\u001b[0;34m[\u001b[0m\u001b[0;36m0\u001b[0m\u001b[0;34m]\u001b[0m\u001b[0;34m)\u001b[0m\u001b[0;34m\u001b[0m\u001b[0m\n",
      "\u001b[0;31mFileNotFoundError\u001b[0m: [Errno 2] No such file or directory: 'ml-100k/movielens-100k-train.txt'"
     ]
    }
   ],
   "source": [
    "user_pos_train = {}\n",
    "with open(workdir + 'movielens-100k-train.txt')as fin:\n",
    "    for line in fin:\n",
    "        line = line.split()\n",
    "        uid = int(line[0])\n",
    "        iid = int(line[1])\n",
    "        r = float(line[2])\n",
    "        if r > 3.99:\n",
    "            if uid in user_pos_train:\n",
    "                user_pos_train[uid].append(iid)\n",
    "            else:\n",
    "                user_pos_train[uid] = [iid]\n",
    "\n",
    "user_pos_test = {}\n",
    "with open(workdir + 'movielens-100k-test.txt')as fin:\n",
    "    for line in fin:\n",
    "        line = line.split()\n",
    "        uid = int(line[0])\n",
    "        iid = int(line[1])\n",
    "        r = float(line[2])\n",
    "        if r > 3.99:\n",
    "            if uid in user_pos_test:\n",
    "                user_pos_test[uid].append(iid)\n",
    "            else:\n",
    "                user_pos_test[uid] = [iid]\n",
    "\n",
    "all_users = user_pos_train.keys()\n",
    "all_users.sort()"
   ]
  },
  {
   "cell_type": "code",
   "execution_count": null,
   "metadata": {},
   "outputs": [],
   "source": []
  }
 ],
 "metadata": {
  "kernelspec": {
   "display_name": "Python 3",
   "language": "python",
   "name": "python3"
  },
  "language_info": {
   "codemirror_mode": {
    "name": "ipython",
    "version": 3
   },
   "file_extension": ".py",
   "mimetype": "text/x-python",
   "name": "python",
   "nbconvert_exporter": "python",
   "pygments_lexer": "ipython3",
   "version": "3.6.1"
  }
 },
 "nbformat": 4,
 "nbformat_minor": 2
}
